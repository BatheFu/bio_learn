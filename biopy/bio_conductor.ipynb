{
 "cells": [
  {
   "cell_type": "code",
   "execution_count": 5,
   "id": "82837209",
   "metadata": {},
   "outputs": [],
   "source": [
    "options(BioC_mirror=\"http://mirrors.ustc.edu.cn/bioc\")\n"
   ]
  },
  {
   "cell_type": "code",
   "execution_count": 8,
   "id": "5ad22395",
   "metadata": {
    "collapsed": true
   },
   "outputs": [
    {
     "name": "stderr",
     "output_type": "stream",
     "text": [
      "'getOption(\"repos\")' replaces Bioconductor standard repositories, see\n",
      "'?repositories' for details\n",
      "\n",
      "replacement repositories:\n",
      "    CRAN: https://cloud.r-project.org\n",
      "\n",
      "\n"
     ]
    },
    {
     "data": {
      "text/html": [
       "'seqinr'"
      ],
      "text/latex": [
       "'seqinr'"
      ],
      "text/markdown": [
       "'seqinr'"
      ],
      "text/plain": [
       "[1] \"seqinr\""
      ]
     },
     "metadata": {},
     "output_type": "display_data"
    },
    {
     "name": "stderr",
     "output_type": "stream",
     "text": [
      "'getOption(\"repos\")' replaces Bioconductor standard repositories, see\n",
      "'?repositories' for details\n",
      "\n",
      "replacement repositories:\n",
      "    CRAN: https://cloud.r-project.org\n",
      "\n",
      "\n",
      "Bioconductor version 3.13 (BiocManager 1.30.16), R 4.1.0 (2021-05-18)\n",
      "\n",
      "Installing package(s) 'seqinr'\n",
      "\n",
      "also installing the dependencies ‘pixmap’, ‘sp’, ‘ade4’, ‘segmented’\n",
      "\n",
      "\n",
      "Installation paths not writeable, unable to update packages\n",
      "  path: /usr/lib/R/library\n",
      "  packages:\n",
      "    spatial\n",
      "\n"
     ]
    }
   ],
   "source": [
    "library(BiocManager)\n",
    "BiocManager::available('SeqinR')"
   ]
  },
  {
   "cell_type": "code",
   "execution_count": 9,
   "id": "cf72407c",
   "metadata": {},
   "outputs": [],
   "source": [
    "library(\"seqinr\")"
   ]
  },
  {
   "cell_type": "code",
   "execution_count": null,
   "id": "8aa855c8",
   "metadata": {},
   "outputs": [
    {
     "name": "stderr",
     "output_type": "stream",
     "text": [
      "'getOption(\"repos\")' replaces Bioconductor standard repositories, see\n",
      "'?repositories' for details\n",
      "\n",
      "replacement repositories:\n",
      "    CRAN: https://cloud.r-project.org\n",
      "\n",
      "\n",
      "Bioconductor version 3.13 (BiocManager 1.30.16), R 4.1.0 (2021-05-18)\n",
      "\n",
      "Installing package(s) 'ShortRead'\n",
      "\n",
      "also installing the dependencies ‘formatR’, ‘lambda.r’, ‘futile.options’, ‘MatrixGenerics’, ‘DelayedArray’, ‘futile.logger’, ‘snow’, ‘BH’, ‘SummarizedExperiment’, ‘png’, ‘jpeg’, ‘BiocParallel’, ‘Rsamtools’, ‘GenomicAlignments’, ‘Biobase’, ‘GenomicRanges’, ‘hwriter’, ‘latticeExtra’, ‘Rhtslib’\n",
      "\n",
      "\n"
     ]
    }
   ],
   "source": [
    "BiocManager::install('ShortRead')"
   ]
  },
  {
   "cell_type": "code",
   "execution_count": null,
   "id": "bd530b6a",
   "metadata": {},
   "outputs": [],
   "source": []
  }
 ],
 "metadata": {
  "kernelspec": {
   "display_name": "R",
   "language": "R",
   "name": "ir"
  },
  "language_info": {
   "codemirror_mode": "r",
   "file_extension": ".r",
   "mimetype": "text/x-r-source",
   "name": "R",
   "pygments_lexer": "r",
   "version": "4.1.0"
  }
 },
 "nbformat": 4,
 "nbformat_minor": 5
}
